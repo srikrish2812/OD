{
 "cells": [
  {
   "cell_type": "code",
   "execution_count": 38,
   "id": "01f90915-bc35-4932-9dc7-0173d6664f10",
   "metadata": {},
   "outputs": [],
   "source": [
    "# importing libraries\n",
    "import torch\n",
    "import torchvision\n",
    "import torchvision.transforms as T\n",
    "from PIL import Image\n",
    "import matplotlib.pyplot as plt\n",
    "import numpy as np\n",
    "import cv2"
   ]
  },
  {
   "cell_type": "code",
   "execution_count": 39,
   "id": "62aa1d25-e48e-4627-8ef7-48a8709a538f",
   "metadata": {},
   "outputs": [],
   "source": [
    "import os\n",
    " \n",
    "# Get the list of all files and directories\n",
    "path = \"/mnt/DATA/Arun/Downloads/mmdetection/data/coco/train2017/\"      # Original images folder path\n",
    "path1 = \"/mnt/DATA/Arun/Downloads/mmdetection/data/coco/train2017_SR/\"  # Super resolved images folder path\n",
    "dir_list = os.listdir(path) # gives the list of file names in the folder ( Original images folder)\n",
    " "
   ]
  },
  {
   "cell_type": "code",
   "execution_count": null,
   "id": "e1d2fd51-21f6-45b6-9097-1cd4686b36e7",
   "metadata": {},
   "outputs": [],
   "source": [
    "# For each file in the original folder, image is read and bicubic interpolation is applied and image is saved in to the SR images folder with same filename\n"
   ]
  },
  {
   "cell_type": "code",
   "execution_count": 40,
   "id": "65eb00c1-93ab-4789-b934-f33d48482ae0",
   "metadata": {},
   "outputs": [],
   "source": [
    "for i in range(len(dir_list)):\n",
    "    org_img=cv2.imread(os.path.join(path,dir_list[i]))\n",
    "    sr_img=cv2.resize(org_img,None,fx=2,fy=2,interpolation=cv2.INTER_CUBIC)\n",
    "    cv2.imwrite(os.path.join(path1,dir_list[i]),sr_img)"
   ]
  },
  {
   "cell_type": "code",
   "execution_count": null,
   "id": "219b205f-a145-49cf-a63a-ffbfc3858a04",
   "metadata": {},
   "outputs": [],
   "source": []
  }
 ],
 "metadata": {
  "kernelspec": {
   "display_name": "Python 3 (ipykernel)",
   "language": "python",
   "name": "python3"
  },
  "language_info": {
   "codemirror_mode": {
    "name": "ipython",
    "version": 3
   },
   "file_extension": ".py",
   "mimetype": "text/x-python",
   "name": "python",
   "nbconvert_exporter": "python",
   "pygments_lexer": "ipython3",
   "version": "3.7.11"
  }
 },
 "nbformat": 4,
 "nbformat_minor": 5
}

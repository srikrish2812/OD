{
 "cells": [
  {
   "cell_type": "code",
   "execution_count": null,
   "outputs": [],
   "source": [
    "import json\n",
    "import numpy as np\n",
    "\n",
    "def scale_sr(lst):     # scaling the elements of list by a factor of 2\n",
    "    return [i*2 for i in lst]\n",
    "\n",
    "f = open(\"/mnt/DATA/Arun/Downloads/mmdetection/data/coco/annotations/instances_train2017.json\")  # Path of json file\n",
    "x = json.load(f)   # loading json file\n",
    "\n",
    "x.keys()  # understanding the keys in dictionary\n",
    "print(x['annotations'][0]['bbox'])   # printing out the value of first key\n",
    "\n",
    "for i in range(len(x['annotations'])):   # doubling the bbox coordinates\n",
    "    x['annotations'][i]['bbox'] = scale_sr(x['annotations'][i]['bbox'])\n",
    "\n",
    "with open(\"/mnt/DATA/Arun/Downloads/mmdetection/data/coco/annotations/train2017.json\",'w') as f1:\n",
    "    json.dump(x,f1)   # creating new json file named train2017.json\n",
    "\n"
   ],
   "metadata": {
    "collapsed": false,
    "pycharm": {
     "name": "#%%\n"
    }
   }
  }
 ],
 "metadata": {
  "kernelspec": {
   "display_name": "Python 3",
   "language": "python",
   "name": "python3"
  },
  "language_info": {
   "codemirror_mode": {
    "name": "ipython",
    "version": 2
   },
   "file_extension": ".py",
   "mimetype": "text/x-python",
   "name": "python",
   "nbconvert_exporter": "python",
   "pygments_lexer": "ipython2",
   "version": "2.7.6"
  }
 },
 "nbformat": 4,
 "nbformat_minor": 0
}
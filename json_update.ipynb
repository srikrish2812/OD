{
 "cells": [
  {
   "cell_type": "code",
   "execution_count": 20,
   "id": "e7ffa232-6e83-46f2-bd91-9ed2172e16a9",
   "metadata": {},
   "outputs": [],
   "source": [
    "import json\n",
    "import numpy as np"
   ]
  },
  {
   "cell_type": "code",
   "execution_count": 21,
   "id": "5b17e9ad-0f91-415f-9efb-a75632859f14",
   "metadata": {},
   "outputs": [],
   "source": [
    "def scale_sr(lst):\n",
    "    return [i*2 for i in lst]"
   ]
  },
  {
   "cell_type": "code",
   "execution_count": 22,
   "id": "9f821b15-f8af-417b-9e2e-a6fe6fd8bf30",
   "metadata": {},
   "outputs": [
    {
     "name": "stdout",
     "output_type": "stream",
     "text": [
      "[199.84, 200.46, 77.71, 70.88]\n"
     ]
    }
   ],
   "source": [
    "f = open(\"/mnt/DATA/Arun/Downloads/mmdetection/data/coco/annotations/instances_train2017.json\")\n",
    "x = json.load(f)\n",
    "\n",
    "x.keys()\n",
    "print(x['annotations'][0]['bbox'])\n",
    "\n",
    "for i in range(len(x['annotations'])):\n",
    "    x['annotations'][i]['bbox'] = scale_sr(x['annotations'][i]['bbox'])\n",
    "\n",
    "with open(\"/mnt/DATA/Arun/Downloads/mmdetection/data/coco/annotations/train2017.json\",'w') as f1:\n",
    "    json.dump(x,f1)"
   ]
  }
 ],
 "metadata": {
  "kernelspec": {
   "display_name": "Python 3 (ipykernel)",
   "language": "python",
   "name": "python3"
  },
  "language_info": {
   "codemirror_mode": {
    "name": "ipython",
    "version": 3
   },
   "file_extension": ".py",
   "mimetype": "text/x-python",
   "name": "python",
   "nbconvert_exporter": "python",
   "pygments_lexer": "ipython3",
   "version": "3.7.11"
  }
 },
 "nbformat": 4,
 "nbformat_minor": 5
}
